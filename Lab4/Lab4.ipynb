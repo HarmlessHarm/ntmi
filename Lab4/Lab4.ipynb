{
 "cells": [
  {
   "cell_type": "markdown",
   "metadata": {},
   "source": [
    "**Table of contents**\n",
    "\n",
    "* [Parts of Speech](#pos)\n",
    "* [Hidden Markov Models](#hmm)\n",
    "* [Maximum likelihood estimation for labelled data](#mle)\n",
    "* [Implementation](#imp)\n",
    "* [Evaluation](#eval)\n",
    "    * [Perplexity](#ppl)\n",
    "    * [Viterbi](#viterbi)    \n",
    "    * [Accuracy](#acc)\n",
    "\n",
    "    \n",
    "**Table of Exercises**\n",
    "\n",
    "* Theory (10 points)\n",
    "    * [Exercise 4-4](#ex4-4)\n",
    "    * [Exercise 4-5](#ex4-5)\n",
    "    * [Exercise 4-6](#ex4-6)\n",
    "    * [Exercise 4-7](#ex4-7)\n",
    "    * [Exercise 4-8](#ex4-8)\n",
    "    * [Exercise 4-9](#ex4-9)\n",
    "* Practice (30 points)    \n",
    "    * [Exercise 4-1](#ex4-1)\n",
    "    * [Exercise 4-2](#ex4-2)\n",
    "    * [Exercise 4-3](#ex4-3)\n",
    "    * [Exercise 4-10](#ex4-10)\n",
    "    * [Exercise 4-11](#ex4-11)\n",
    "    * [Exercise 4-12](#ex4-12)\n",
    "\n",
    "\n",
    "\n",
    "**General notes**\n",
    "\n",
    "* In this notebook you are expected to use $\\LaTeX$. \n",
    "* Use python3.\n",
    "* Use NLTK to read annotated data.\n",
    "* **Document your code**: TAs are more likely to understand the steps if you document them. If you don't, it's also difficult to give you partial points for exercises that are not completely correct."
   ]
  },
  {
   "cell_type": "markdown",
   "metadata": {},
   "source": [
    "# <a name=\"pos\"> Parts of Speech\n",
    "    \n",
    "**Parts of speech** (also known as PoS, word classes) give us information about a word and its neighbors. \n",
    "PoS can can be divided into: closed class and open class.\n",
    "\n",
    "Open class words (or **content words**) are nouns, verbs, adjectives, and adverbs, where they refer to objects, actions, and features in the world. They are called open class, since there is no limit to what these words are\n",
    "new ones are added all the time (email, website, selfie, etc.).\n",
    "\n",
    "**Nouns** suchs as proper nouns are names of persons of entitnes: *Regina*, *Colorado*,\n",
    "and *IBM*. Other type are common nouns that refer to objects that for exmaple, can be counted (one car) or homogeneus groups (snow, sand).\n",
    "\n",
    "**Verbs** consists pf actions and processes, like *draw*, *provide*, and *go*.\n",
    "\n",
    "***Adjectives** include terms for properties or qualities for concepts like age (*old*, *young*), value (*good*, *bad*).\n",
    "\n",
    "\n",
    "\n",
    "Closed class words (or **function words**) are pronouns, determiners, prepositions, and connectives. There is a limited number of these.\n",
    "\n",
    "\n",
    "**Prepositions** occur before noun phrases and indicate spatial or temporal relations, for example, *by* the house.\n",
    "\n",
    "The PoS are tags that classifiy words. For example in English uses the 36 tags. And these tags are used to manually annotate a wide variety of corpora, the Brown corpus, the Wall Street Journal corpus.\n",
    "\n",
    "In this Lab we are going to work with the English [Penn Treebank](https://www.ling.upenn.edu/courses/Fall_2003/ling001/penn_treebank_pos.html) tag set and the annotated corpus.\n",
    "\n",
    "Our final goal is the task: \n",
    "* **Part-of-speech tagging** (tagging for short) is the process of assigning a part-ofspeech tag to each word in an input text.\n",
    "\n",
    "First, we will download the annotated data from [NLTK](https://www.nltk.org/data.html)"
   ]
  },
  {
   "cell_type": "code",
   "execution_count": 1,
   "metadata": {},
   "outputs": [],
   "source": [
    "# Read annotated corpora with NLTK\n",
    "# first download data\n",
    "import nltk\n",
    "#nltk.download()\n",
    "# it will open a GUI and you have to double click in \"all\" to download \n",
    "# this will download different types of annotated corpora"
   ]
  },
  {
   "cell_type": "code",
   "execution_count": 2,
   "metadata": {},
   "outputs": [
    {
     "data": {
      "text/plain": [
       "'3.5.2 (default, Nov 23 2017, 16:37:01) \\n[GCC 5.4.0 20160609]'"
      ]
     },
     "execution_count": 2,
     "metadata": {},
     "output_type": "execute_result"
    }
   ],
   "source": [
    "import sys\n",
    "sys.version\n"
   ]
  },
  {
   "cell_type": "markdown",
   "metadata": {},
   "source": [
    "With NLTK, we load the annotated **Penn Treebank** corpus.\n",
    "This corpus will be used to train and test our PoS taggers. Let's use the last 100 sentences for test."
   ]
  },
  {
   "cell_type": "code",
   "execution_count": 69,
   "metadata": {},
   "outputs": [
    {
     "name": "stdout",
     "output_type": "stream",
     "text": [
      "3914\n",
      "3000\n",
      "100\n",
      "814\n"
     ]
    }
   ],
   "source": [
    "# inspect PoS from Treebank\n",
    "# we use the universal tagset\n",
    "treebank_sents = nltk.corpus.treebank.tagged_sents(tagset='universal')\n",
    "\n",
    "# we split our corpus on training, dev and test\n",
    "treebank_training = list(treebank_sents[:3000]) \n",
    "treebank_dev = list(treebank_sents[3000:3100])\n",
    "treebank_test = list(treebank_sents[3100:])\n",
    "print(len(treebank_sents))\n",
    "print(len(treebank_training)) \n",
    "print(len(treebank_dev)) # we use 100 sentences/instances for validation\n",
    "print(len(treebank_test)) # we use 814 sentences/instances for test"
   ]
  },
  {
   "cell_type": "code",
   "execution_count": 70,
   "metadata": {},
   "outputs": [
    {
     "name": "stdout",
     "output_type": "stream",
     "text": [
      "12408\n",
      "{'DET', 'ADP', 'CONJ', 'X', 'ADV', 'NOUN', 'ADJ', 'VERB', 'PRON', 'NUM', 'PRT', '.'}\n"
     ]
    }
   ],
   "source": [
    "# which is the vocabulary?\n",
    "# we can inspect the vocabulary of the corpus \n",
    "vocabulary = set([w for (w, t) in nltk.corpus.treebank.tagged_words(tagset='universal')])\n",
    "print(len(vocabulary)) # number of words in our corpus\n",
    "# we inspect the universal tagset (this is a general mapping becasue each languge use a different tagset.\n",
    "tagset = set([t for (w, t) in nltk.corpus.treebank.tagged_words(tagset='universal')])\n",
    "\n",
    "print(tagset) # tags/labes used to annotate the word class"
   ]
  },
  {
   "cell_type": "code",
   "execution_count": 5,
   "metadata": {},
   "outputs": [],
   "source": [
    "# The observations are pairs: (sentence, tags)\n",
    "# so we can use this to get just the sentences (when we need them)\n",
    "def extract_sentences(treebank_corpus):\n",
    "    sentences = []\n",
    "    for observations in treebank_corpus:\n",
    "        sentences.append([x for x, c in observations])\n",
    "    return sentences\n",
    "\n",
    "# The observations are pairs: (sentence, tags)\n",
    "# so we can use this to get just the tags (when we need them)\n",
    "def extract_tags(treebank_corpus):\n",
    "    tags = []\n",
    "    for observations in treebank_corpus:\n",
    "        tags.append([c for x, c in observations])\n",
    "    return tags"
   ]
  },
  {
   "cell_type": "markdown",
   "metadata": {},
   "source": [
    "<a name=\"ex4-1\" style=\"color:red\">**Exercise 4-1**</a> **[2 points]** \n",
    "\n",
    "* **[1 point]** Load the PTB corpus and plot the distribution of POS tags. \n",
    "* **[1 point]** Do the same for the Brown corpus.  \n"
   ]
  },
  {
   "cell_type": "code",
   "execution_count": 111,
   "metadata": {},
   "outputs": [
    {
     "data": {
      "image/png": "[encoded data removed]",
      "text/plain": [
       "<matplotlib.figure.Figure at 0x7fd498d77cf8>"
      ]
     },
     "metadata": {},
     "output_type": "display_data"
    }
   ],
   "source": [
    "import itertools\n",
    "import matplotlib.pyplot as plt\n",
    "from collections import defaultdict\n",
    "from collections import Counter\n",
    "\n",
    "def distribution(corpus):\n",
    "    count = defaultdict(int)\n",
    "    tag_list = list()\n",
    "    for line in corpus:\n",
    "        sets, tags = zip(*line)\n",
    "        tag_list.extend(tags)\n",
    "    count = Counter(tag_list)\n",
    "        \n",
    "    plt.bar(range(len(count)), count.values(), align=\"center\")\n",
    "    plt.xticks(range(len(count)), list(count.keys()))\n",
    "    plt.title('Tag distribution')\n",
    "    plt.show()\n",
    "\n",
    "\n",
    "distribution(treebank_sents)"
   ]
  },
  {
   "cell_type": "code",
   "execution_count": 112,
   "metadata": {},
   "outputs": [
    {
     "data": {
      "image/png": "[encoded data removed]",
      "text/plain": [
       "<matplotlib.figure.Figure at 0x7fd498d77278>"
      ]
     },
     "metadata": {},
     "output_type": "display_data"
    }
   ],
   "source": [
    "brown_sents = nltk.corpus.brown.tagged_sents(tagset='universal')\n",
    "distribution(brown_sents)\n"
   ]
  },
  {
   "cell_type": "markdown",
   "metadata": {},
   "source": [
    "<a name=\"ex4-2\" style=\"color:red\">**Exercise 4-2**</a> **[1 point]** Load the PTB corpus, find out for each POS tag what is the most likely tag that follows it. "
   ]
  },
  {
   "cell_type": "code",
   "execution_count": 118,
   "metadata": {
    "scrolled": true
   },
   "outputs": [
    {
     "name": "stdout",
     "output_type": "stream",
     "text": [
      "PTB POS followed max by:  {'DET': 'NOUN', 'ADP': 'DET', 'CONJ': 'NOUN', 'X': 'VERB', 'ADV': 'VERB', 'NOUN': 'NOUN', 'VERB': 'X', 'PRON': 'VERB', 'NUM': 'NOUN', 'PRT': 'VERB', 'ADJ': 'NOUN', '.': '-EOS-'}\n",
      "Brown POS followed max by:  {'DET': 'NOUN', 'ADP': 'DET', 'CONJ': 'NOUN', 'X': 'X', 'ADV': 'VERB', 'NOUN': '.', 'VERB': 'VERB', 'PRON': 'VERB', 'NUM': 'NOUN', 'PRT': 'VERB', 'ADJ': 'NOUN', '.': '-EOS-'}\n"
     ]
    }
   ],
   "source": [
    "import operator\n",
    "\n",
    "def followed_max(corpus):\n",
    "    follow_count = defaultdict(int)\n",
    "    for line in corpus:\n",
    "        sent, tags = zip(*line)\n",
    "        for i, tag in enumerate(tags):\n",
    "            # Check if index is in bound else use EoS symbol\n",
    "            if i < len(tags) - 1:\n",
    "                next_tag = tags[i + 1]\n",
    "            else: next_tag = '-EOS-'\n",
    "            if tag not in follow_count:\n",
    "                follow_count[tag] = defaultdict(int)\n",
    "            follow_count[tag][next_tag] += 1\n",
    "\n",
    "    follow_max = {}\n",
    "    for tag, counts in follow_count.items():\n",
    "        follow_max[tag] = max(counts.items(), key=operator.itemgetter(1))[0]\n",
    "\n",
    "    return follow_max\n",
    "\n",
    "print(\"PTB POS followed max by: \", followed_max(treebank_sents))\n",
    "print(\"Brown POS followed max by: \", followed_max(brown_sents))"
   ]
  },
  {
   "cell_type": "markdown",
   "metadata": {},
   "source": [
    "<a name=\"ex4-3\" style=\"color:red\">**Exercise 4-3**</a> **[1 point]** Find the most frequent verb on the PTB and on the Brown corpus."
   ]
  },
  {
   "cell_type": "code",
   "execution_count": 114,
   "metadata": {},
   "outputs": [
    {
     "name": "stdout",
     "output_type": "stream",
     "text": [
      "Most frequent verb in PTB is  : is  \n",
      "With count:  671\n",
      "Most frequent verb in Brown is: is  \n",
      "With count:  10010\n"
     ]
    }
   ],
   "source": [
    "\n",
    "def max_verb(corpus):\n",
    "    count = defaultdict(int)\n",
    "    for line in corpus:\n",
    "        for w, t in line:\n",
    "            if t == \"VERB\":\n",
    "                count[w] += 1\n",
    "    return max(count.items(), key=operator.itemgetter(1))\n",
    "    \n",
    "verb, c1 = max_verb(treebank_sents)\n",
    "verb2, c2 = max_verb(brown_sents)\n",
    "print(\"Most frequent verb in PTB is  :\",verb, \" \\nWith count: \", c1)\n",
    "print(\"Most frequent verb in Brown is:\",verb2, \" \\nWith count: \", c2)"
   ]
  },
  {
   "cell_type": "markdown",
   "metadata": {},
   "source": [
    "# <a name=\"hmm\"> Hidden Markov Models\n",
    "\n",
    "* How can we learn a PoS tagger given this dataset?\n",
    "\n",
    "The Hidden Markov Model **HMM** is a sequence model. A sequence model or sequence classifier is a\n",
    "model whose job is to assign a label or class to each unit in a sequence, thus mapping\n",
    "a sequence of observations to a sequence of labels.\n",
    "\n",
    "For example, in PoS the HMM will assing a tag to each word in a sentence: \n",
    "\n",
    "*Mr. Vinken is chairman of Elsevier N.V. the Dutch publishing group.*\n",
    "\n",
    "The output of a tagger would look like one of the annotated sentences form the Treeban corpus:"
   ]
  },
  {
   "cell_type": "code",
   "execution_count": 11,
   "metadata": {},
   "outputs": [
    {
     "name": "stdout",
     "output_type": "stream",
     "text": [
      "[('Mr.', 'NOUN'), ('Vinken', 'NOUN'), ('is', 'VERB'), ('chairman', 'NOUN'), ('of', 'ADP'), ('Elsevier', 'NOUN'), ('N.V.', 'NOUN'), (',', '.'), ('the', 'DET'), ('Dutch', 'NOUN'), ('publishing', 'VERB'), ('group', 'NOUN'), ('.', '.')]\n"
     ]
    }
   ],
   "source": [
    "print(treebank_training[1])"
   ]
  },
  {
   "cell_type": "markdown",
   "metadata": {},
   "source": [
    "Let's start by defining the **HMM**\n",
    "    \n",
    "We consider two phenomena:\n",
    "* Transition: we move from one \"state\" to another \"state\" where our state is the POS tag\n",
    "* Emission: with a certain \"state\" in mind, we generate a certain word\n",
    "\n",
    "This means that in the sentence above, for example, we generate\n",
    "1. From the state `BoS` (begin of sequence) we generate the state `NOUN`\n",
    "2. Then from `NOUN` we generate the word `Mr.`\n",
    "3. We then \"forget\" the word we just emitted and use the fact that our current state is `NOUN` to generate the next state, which is again a `NOUN`\n",
    "4. From where we then generate `Vinken`\n",
    "5. We proceed like that until we exaust both sequences\n",
    "\n",
    "\n",
    "Let us give names to things, let's model the current class with a random variable $C$ and let's use the random variable $C_{\\text{prev}}$ to model the previous category. For the word we will use the random variable $X$.\n",
    "Both $C$ and $C_{\\text{prev}}$ take on values in the enumeration of a tagset containing $t$ tags, that is, $\\{1, \\ldots, t\\}$. $X$ takes on values in the enumeration of a vocabulary containing $v$ words, that is, $\\{1, \\ldots, v\\}$.\n",
    "\n",
    "The **transition** distribution captures how our beliefs in a class vary as a function of the previous class. We will use Categorical distributions for that. In fact, for each possible previous class we get a Categorical distribution over the complete set of classes.\n",
    "\n",
    "\\begin{align}\n",
    "(1) \\qquad C \\mid C_{\\text{prev}}=p \\sim \\text{Cat}(\\lambda_1^{(p)}, \\ldots, \\lambda_t^{(p)})\n",
    "\\end{align}\n",
    "    "
   ]
  },
  {
   "cell_type": "markdown",
   "metadata": {},
   "source": [
    "<a name=\"ex4-4\" style=\"color:red\">**Exercise 4-4**</a> **[1 point]** What is the probability value of  $P_{C|C_{\\text{prev}}}(c|p)$?\n",
    "\n",
    "$\\lambda_c^p$"
   ]
  },
  {
   "cell_type": "markdown",
   "metadata": {},
   "source": [
    "<a name=\"ex4-5\" style=\"color:red\">**Exercise 4-5**</a> **[2 points]**\n",
    "\n",
    "* **[1 point]** How many cpds do we need in order to represent all transition distributions?\n",
    "* **[1 point]** What's the representation cost of such a set of distributions? Use [big-O notation](https://en.wikipedia.org/wiki/Big_O_notation).\n",
    "\n"
   ]
  },
  {
   "cell_type": "markdown",
   "metadata": {},
   "source": [
    "For every tag we have a distribution of length t.\n",
    "- $t$\n",
    "- $O(t^2)$"
   ]
  },
  {
   "cell_type": "markdown",
   "metadata": {},
   "source": [
    "\n",
    "The **emission** distribution captures how our beliefs in a word vary as a function of the word's class. We will again use Categorical distributions for that. In fact, for each possible class, we get a Categorical distribution over the complete vocabulary.\n",
    "\n",
    "\n",
    "\\begin{align}\n",
    "(2) \\qquad X \\mid C=c \\sim \\text{Cat}(\\theta_1^{(c)}, \\ldots, \\theta_v^{(c)})\n",
    "\\end{align}\n",
    "   "
   ]
  },
  {
   "cell_type": "markdown",
   "metadata": {},
   "source": [
    "<a name=\"ex4-6\" style=\"color:red\">**Exercise 4-6**</a> **[1 point]** What's the probability value of $P_{X|C}(x|c)$?\n",
    "\n",
    "$\\theta_x^c$\n"
   ]
  },
  {
   "cell_type": "markdown",
   "metadata": {},
   "source": [
    "<a name=\"ex4-7\" style=\"color:red\">**Exercise 4-7**</a> **[2 points]** \n",
    "\n",
    "* **[1 point]** How many cpds do we need in order to represent all emission distributions? \n",
    "* **[1 point]** What's the representation cost of such a set of distributions? Use [big-O notation](https://en.wikipedia.org/wiki/Big_O_notation).\n",
    "\n"
   ]
  },
  {
   "cell_type": "markdown",
   "metadata": {},
   "source": [
    "For every tag we have a distribution of length v.\n",
    "- $t$ \n",
    "- $O(vt)$"
   ]
  },
  {
   "cell_type": "markdown",
   "metadata": {},
   "source": [
    "Now let's turn to the joint distribution $P_{CX|C_{\\text{prev}}}$ over classes and words and let's focus on a single step where we can assume the previous class is already available. Then the model factorises as follows:\n",
    "\n",
    "\\begin{align}\n",
    "(3) \\qquad P_{CX|C_{\\text{prev}}}(x, c | c_{\\text{prev}}) &= P_{C|C_{\\text{prev}}}(c|c_{\\text{prev}}) P_{X|C}(x|c) \n",
    "\\end{align}\n",
    "\n",
    "It will turn out useful to know what is the marginal distribution $P_{X|C_{\\text{prev}}}$ over words given the previous class ---  where we have marginalised the current class out. \n",
    "\n",
    "\\begin{align}\n",
    "(4) \\qquad P_{X|C_{\\text{prev}}}(x| c_{\\text{prev}}) &= \\sum_{c=1}^t P_{CX|C_{\\text{prev}}}(x, c | c_{\\text{prev}}) \\\\\n",
    " &= \\sum_{c=1}^t P_{C|C_{\\text{prev}}}(c|c_{\\text{prev}}) \\times P_{X|C}(x|c) \n",
    "\\end{align}\n",
    "\n",
    "Note that Equation (4) starts by simply summing Equation (3) for all possible values of the current class, that is, for $c$ from 1 to $t$.\n",
    "\n"
   ]
  },
  {
   "cell_type": "markdown",
   "metadata": {},
   "source": [
    "Our ultimate goal with the HMM is to assing a probability to a sentence $x_1^n$. For that we need to combine $n$ pairs $(c_i, x_i)$ and marginalise away their history $c_{i-1}$. Doing so yields the **joint probability**:\n",
    "\n",
    "\\begin{align}\n",
    "(5) \\qquad P_{X_1^nC_1^n|N}(x_1^n, c_1^n|n) &= P_{C|C_{\\text{prev}}}(c_1|c_0)P_{X|C}(x_1|c_1)P_{C|C_{\\text{prev}}}(c_2|c_1)P_{X|C}(x_2|c_1)\\cdots P_{C|C_{\\text{prev}}}(c_n|c_{n-1})P_{X|C}(x_n|c_n) \\\\\n",
    "    &= \\prod_{i=1}^n P(c_i|c_{i-1})P(x_i|c_i)\n",
    "\\end{align}\n",
    "\n",
    "\n",
    "We can get the **marginal probability** of a sentence by summing over all possible values of all possible class variables. This requires summing for each and every $c_i$ from 1 to $t$ as follows:\n",
    "\n",
    "\\begin{align}\n",
    "(6) \\qquad P_{S|N}(x_1^n|n) &= \\sum_{c_1=1}^t \\cdots \\sum_{c_n=1}^t P(c_1|c_0)P(x_1|c_1)P(c_2|c_1)P(x_2|c_1)\\cdots P(c_n|c_{n-1})P(x_n|c_n) \\\\\n",
    "&= \\sum_{c_1=1}^t \\cdots \\sum_{c_n=1}^t  \\prod_{i=1}^n P(c_i|c_{i-1})P(x_i|c_i)\n",
    "\\end{align}\n",
    "\n",
    "This looks pretty bad! If we have to enumerate all possible tag sequences, there would be just too many of them. That is, in the first sum, $c_1$ takes 1 of $t$ values, then for each of those values $c_2$ will take 1 of $t$ values, and so on. This leads to $t^n$ different tag sequences. An exponential number of them!!! We will never manage to enumerate them, compute their joint probabilities and then sum them up. \n",
    "\n",
    "Luckily, it turns out that in the HMM only two variables interact at a time, that is, $c_i$ interacts with $c_{i-1}$, then $c_i$ interacts with $x_i$, thus to characterise the distribution over $x_i$ we only need to know $c_{i-1}$ and $c_i$ --- which Equation (4) also shows. We can simplify Equation (6) by rearranging the sums and products as in Equation (7) below.\n",
    "\n",
    "\\begin{align}\n",
    "(7) \\qquad P_{S|N}(x_1^n|n) &= \\sum_{c_1=1}^t \\cdots \\sum_{c_n=1}^t  \\prod_{i=1}^n P(c_i|c_{i-1})P(x_i|c_i) \\\\\n",
    "&= \\prod_{i=1}^n \\sum_{c_{i-1}=1}^t \\sum_{c_i=1}^t P(c_i|c_{i-1})P(x_i|c_i)\n",
    "\\end{align}\n",
    "\n",
    "This is great news because it reveals that to marginalise the tag sequences we only need to scan over the sentence $i=1, \\ldots, n$ and then scan over the possible combinations of two tags from the tagset. \n"
   ]
  },
  {
   "cell_type": "markdown",
   "metadata": {},
   "source": [
    "<a name=\"ex4-8\" style=\"color:red\">**Exercise 4-8**</a> **[3 points]** What is the algorithmic complexity of computing the marginal probability of a sentence in the HMM model?  \n",
    "\n",
    "$O(nt^2)$\n",
    "where $n$ is the number of words in the sentence and $t$ is the number of tags in the corpus\n"
   ]
  },
  {
   "cell_type": "markdown",
   "metadata": {},
   "source": [
    "Equation (5) gives us a simple algorithm to assign joint probabilities to sequences of the kind $(c_1^n, x_1^n)$. \n",
    "Because we chose categorical distributions as in Equations (1) and (2), we can say that \n",
    "\n",
    "\\begin{align}\n",
    "P_{CX|C_{\\text{prev}}}(x, c | p) = \\lambda_{c}^{(p)} \\times \\theta_{x}^{(p)}\n",
    "\\end{align}\n",
    "\n",
    "and therefore Equation (5) is simply\n",
    "\n",
    "\\begin{align}\n",
    "(8) \\qquad P_{X_1^nC_1^n|N}(x_1^n, c_1^n|n) &= \\prod_{i=1}^n P(c_i|c_{i-1})P(x_i|c_i) \\\\\n",
    " &= \\prod_{i=1}^n  \\lambda_{c_i}^{(c_{i-1})} \\times \\theta_{x_i}^{(c_i)}\n",
    "\\end{align}\n",
    "\n",
    "Similarly, Equation (7) is great because it gives us an algorithm to assign probabilities to sentences. \n",
    "If we now use our parameters to rewrite Equation (7)  we get \n",
    "\n",
    "\\begin{align}\n",
    "(9) \\qquad P_{S|N}(x_1^n|n) &= \\prod_{i=1}^n \\sum_{c_{i-1}=1}^t \\sum_{c_i=1}^t P(c_i|c_{i-1})P(x_i|c_i) \\\\\n",
    "&= \\prod_{i=1}^n \\sum_{c_{i-1}=1}^t \\sum_{c_i=1}^t  \\lambda_{c_i}^{(c_{i-1})} \\times \\theta_{x_i}^{(c_i)}\n",
    "\\end{align}\n",
    "\n"
   ]
  },
  {
   "cell_type": "markdown",
   "metadata": {},
   "source": [
    "# <a name=\"mle\"> Maximum likelihood estimation for labelled data\n",
    "    \n",
    "As we know by now, MLE for Categorical CPDs is just a matter of counting and dividing.\n",
    "\n",
    "The MLE solution for the transition distribution is therefore\n",
    "\n",
    "\\begin{align}\n",
    "(10) \\qquad \\lambda_c^{(p)} = \\frac{\\text{count(p, c)}}{\\text{count}(p)}\n",
    "\\end{align}"
   ]
  },
  {
   "cell_type": "markdown",
   "metadata": {},
   "source": [
    "<a name=\"ex4-9\" style=\"color:red\">**Exercise 4-9**</a> **[1 points]** What is the MLE solution for the emission distribution? Note: use the same style as in Equation (10), that is, state the parameter and the solution. \n",
    "\n",
    "\\begin{align}\n",
    "(10) \\qquad \\theta_v^{(c)} = \\frac{\\text{count(c, v)}}{\\text{count}(c)}\n",
    "\\end{align}"
   ]
  },
  {
   "cell_type": "markdown",
   "metadata": {},
   "source": [
    "Now you will **implement** the HMM, this means you will implement *transition distributions*, *emission distributions*, *Laplace smoothing*, *joint probability*, *marginal probability*, and an algorithm for making *predictions*."
   ]
  },
  {
   "cell_type": "markdown",
   "metadata": {},
   "source": [
    "# <a name=\"imp\"> Implementation\n",
    "\n",
    "Here you will implement a language model based on an HMM POS tagger. \n",
    "\n",
    "<a name=\"ex4-10\" style=\"color:red\">**Exercise 4-10**</a> **[17 points]** \n",
    "\n",
    "You will need to complete the skeleton class below. Read it through before coding. Check the documentation for additional information. Document your steps (this will increase your chance of earning points in case you make mistakes along the way). \n",
    "\n",
    "* **[8 points]** Implement `estimate_model`: this should take an annotated corpus (such as PTB or Brown) and estimate the CPDs in the model using Laplace smoothing. \n",
    "* **[2 points]** Implement `transition_parameter`: see method's documentation\n",
    "* **[2 points]** Implement `emission_parameter`: see method's documentation\n",
    "* **[1 points]** Implement `joint_parameter`: see method's documentation\n",
    "* **[2 points]** Implement `log_joint`: see method's documentation\n",
    "* **[2 points]** Implement `log_marginal`: see method's documentation\n",
    "\n",
    "Show that you methods work by training a model and testing a few examples. This is an example \n",
    "\n",
    "```python\n",
    "treebank_hmm = HMMLM()\n",
    "treebank_hmm.estimate_model(treebank_training)\n",
    "print(treebank_hmm.joint_parameter('DET', 'NOUN', 'book'))\n",
    "sentence = [x for x, _ in treebank_dev[0]]\n",
    "tag_sequence = [c for _, c in treebank_dev[0]]\n",
    "print(' '.join(sentence))\n",
    "print(' '.join(tag_sequence))\n",
    "print(treebank_hmm.log_joint(sentence, tag_sequence))\n",
    "```\n",
    "\n",
    "for which we get\n",
    "\n",
    "```\n",
    "9.959527643028553e-05\n",
    "At Tokyo , the Nikkei index of 225 selected issues , which *T*-1 gained 132 points Tuesday , added 14.99 points to 35564.43 .\n",
    "ADP NOUN . DET NOUN NOUN ADP NUM VERB NOUN . DET X VERB NUM NOUN NOUN . VERB NUM NOUN PRT NUM .\n",
    "-193.71018537\n",
    "```\n"
   ]
  },
  {
   "cell_type": "code",
   "execution_count": 28,
   "metadata": {},
   "outputs": [],
   "source": [
    "import numpy as np\n",
    "from collections import defaultdict\n",
    "\n",
    "class HMMLM:\n",
    "    \"\"\"\n",
    "    This is our HMM language model class.\n",
    "    \n",
    "    It will be responsible for estimating parameters by MLE\n",
    "    as well as computing probabilities using the HMM.\n",
    "    \n",
    "    We will use Laplace smoothing by default (because we do not want to assign 0 probabilities).\n",
    "    \n",
    "    GUIDELINES:\n",
    "        - by convention we will use the string '-UNK-' for an unknown POS tag\n",
    "            - and '<unk>' for an unknown word\n",
    "        - don't forget that with Laplace smoothing the unknown symbols have to be in the support of distributions\n",
    "        - now you will have 2 types of distributions, so you should deal with unknown symbols for both of them\n",
    "        - we also need padding for sentences and tag sequences, by convention we will use \n",
    "            - '-BOS-' and '-EOS-' for padding tag sequences\n",
    "            - '<s>' and '</s>' for padding sentences\n",
    "        - do recall that '-BOS-' is **not** a valid tag\n",
    "            in other words we never *generate* '-BOS-' tags, we only pretend they occur at\n",
    "            the 0th position of the tag sequence in order to provide conditioning context\n",
    "            for the first actual tag\n",
    "        - similarly, '<s>' is not a valid word\n",
    "            in other words, we never *generate* '<s>' as a word\n",
    "            in fact '<s>' is optional as no emission event is based on it\n",
    "        - on the other hand, '-EOS-' is a valid tag\n",
    "            you should model it as the last event of a tag sequence\n",
    "        - similarly, '</s>' is a valid word\n",
    "            you should consider it as the last event of a sentence\n",
    "            \n",
    "    You can use whatever data structures you like for cpds\n",
    "        - we suggest python dict or collections.defaultdict\n",
    "            but you are free to experiment with list and/or np.array if you like\n",
    "    \"\"\"\n",
    "    \n",
    "    def __init__(self, transition_alpha=1.0, emission_alpha=1.0):\n",
    "        self._vocab = set()\n",
    "        self._tagset = set()\n",
    "        self._emission_cpds = dict()\n",
    "        self._transition_cpds = dict()\n",
    "        self._transition_alpha = transition_alpha\n",
    "        self._emission_alpha = emission_alpha\n",
    "        \n",
    "    def tagset(self):\n",
    "        \"\"\"\n",
    "        Return the tagset: a set of all tags seen by the model (including '-UNK-').\n",
    "        \n",
    "        You can modify this if you judge necessary (for example, because you decided  to \n",
    "            use different datastructures, but do note that we provide you an implementation\n",
    "            of the Viterbi algorithm that expects this functionality).        \n",
    "        \"\"\"        \n",
    "        # the -BOS- tag is just something for internal representation\n",
    "        #  in case you have added it to the tagset, we are removing it here\n",
    "        #  as keeping it would be bad for algorithms such as Viterbi\n",
    "        # the -UNK- tag must be in the support (due to Laplace smoothing)\n",
    "        #  thus in case you forgot it, we are adding it now\n",
    "        return self._tagset - {'-BOS-'} | {'-UNK-'}\n",
    "    \n",
    "    def addTag(self, tag):\n",
    "        \"\"\"\n",
    "        Adds a tag to the tagset variable\n",
    "        \"\"\"\n",
    "        self._tagset.add(tag)\n",
    "    \n",
    "    def vocab(self):\n",
    "        \"\"\"\n",
    "        Return the vocabulary of words: all words seen by the model (including '<unk>').\n",
    "        \n",
    "        You can modify this if you judge necessary (for example, because you decided  to \n",
    "            use different datastructures, but do note that we provide you an implementation\n",
    "            of the Viterbi algorithm that expects this functionality).        \n",
    "        \"\"\"        \n",
    "        # the <s> token is just something for internal representation\n",
    "        #  in case you have added it to the vocabulary, we are removing it here\n",
    "        # the <unk> word must be in the support (due to Laplace smoothing)\n",
    "        #  thus in case you forgot it, we are adding it now\n",
    "        return self._vocab - {'<s>'} | {'<unk>'}\n",
    "    \n",
    "    def addWord(self, word):\n",
    "        \"\"\"\n",
    "        Adds a word to the vocab variable\n",
    "        \"\"\"\n",
    "        \n",
    "        self._vocab.add(word)\n",
    "        \n",
    "    def preprocess_sentence(self, sentence, bos=True, eos=True):\n",
    "        \"\"\"\n",
    "        Preprocess a sentence by lowercasing its words and possibly padding it.\n",
    "        \n",
    "        :param sentence: a list of tokens (each a string)\n",
    "        :param bos: if True you will get <s> at the beginning \n",
    "        :param eos: if True you will get </s> at the end\n",
    "        :returns: a list of tokens (lowercased strings)\n",
    "        \"\"\"\n",
    "        # lowercase\n",
    "        sentence = [x.lower() for x in sentence]\n",
    "        # optional padding\n",
    "        if bos: \n",
    "            sentence = ['<s>'] + sentence\n",
    "        if eos:\n",
    "            sentence = sentence + ['</s>']\n",
    "        return sentence\n",
    "        \n",
    "    def preprocess_tag_sequence(self, tag_sequence, bos=True, eos=True):\n",
    "        \"\"\"\n",
    "        Preprocess a tag sequence with optional padding.\n",
    "        \n",
    "        :param tag_sequence: a list of tags (each a string)\n",
    "        :param bos: if True you will get -BOS- at the beginning \n",
    "        :param eos: if True you will get -EOS- at the end\n",
    "        :returns: a list of tokens \n",
    "        \"\"\"\n",
    "        # optional padding\n",
    "        if bos:\n",
    "            tag_sequence = ['-BOS-'] + tag_sequence\n",
    "        if eos:\n",
    "            tag_sequence = tag_sequence + ['-EOS-']\n",
    "        return tag_sequence\n",
    "        \n",
    "    def estimate_model(self, treebank):\n",
    "        \"\"\"\n",
    "        :param treebank: a sequence of observations as provided by nltk\n",
    "            each observation is a list of pairs (x_i, c_i)    \n",
    "            and they have not yet been pre-processed \n",
    "        \n",
    "        Estimate the model parameters.\n",
    "        \n",
    "        This method does not have to return anything, it simply computes the necessary cpds.        \n",
    "        \"\"\"\n",
    "        \n",
    "        # Create count table for emission and transition(defaultdict(int))\n",
    "        emis_count_table = {'-UNK-' : {'<unk>': 0}}\n",
    "        tran_count_table = {'-UNK-' : {'-UNK-': 0}}\n",
    "             \n",
    "        print(\"Start counting\")\n",
    "        for i, tag_sent in enumerate(treebank):\n",
    "            # Preprocess the sentence and tag_sequence\n",
    "            sentence, tags = map(list, zip(*tag_sent))\n",
    "            sentence = self.preprocess_sentence(sentence)\n",
    "            tags = self.preprocess_tag_sequence(tags)\n",
    "            \n",
    "            # Fill count tables\n",
    "            for i, word in enumerate(sentence[1:], 1):\n",
    "                tag = tags[i]\n",
    "                tag_prev = tags[i-1]\n",
    "                \n",
    "                # Add word to tag emission_count: P(word|tag)\n",
    "                if tag not in emis_count_table:\n",
    "                    emis_count_table[tag] = defaultdict(int)\n",
    "                emis_count_table[tag][word] += 1\n",
    "                if '<unk>' not in emis_count_table[tag]:\n",
    "                    emis_count_table[tag]['<unk>'] = 0\n",
    "                \n",
    "                # Add tag to prevtag in transition_count: P(tag|tag_prev)\n",
    "                if tag_prev not in tran_count_table:\n",
    "                    tran_count_table[tag_prev] = defaultdict(int)\n",
    "                tran_count_table[tag_prev][tag] += 1\n",
    "                if '-UNK-' not in tran_count_table[tag_prev]:\n",
    "                    tran_count_table[tag_prev]['-UNK-'] = 0\n",
    "                \n",
    "                # Add tag and word to tagset andd vocab\n",
    "                self.addTag(tag)\n",
    "                self.addWord(word)\n",
    "        \n",
    "        print(\"Start calculating cpd's\")\n",
    "        # Parse count tables and convert them to CPD's\n",
    "        for i, (tag, word_count) in enumerate(emis_count_table.items()):\n",
    "            print('.', end='')\n",
    "            self._emission_cpds[tag] = defaultdict(float)\n",
    "            total_count = sum(word_count.values())\n",
    "            for word, count in word_count.items():\n",
    "                prob = (float(count) + self._emission_alpha) / \\\n",
    "                       (total_count + self._emission_alpha * len(self.vocab()))\n",
    "                self._emission_cpds[tag][word] = prob\n",
    "\n",
    "        for tag_prev, tag_count in tran_count_table.items():\n",
    "            self._transition_cpds[tag_prev] = defaultdict(float)\n",
    "            total_count = sum(tag_count.values())\n",
    "            \n",
    "            for tag, count in tag_count.items():\n",
    "                prob = (float(count) + self._transition_alpha) / \\\n",
    "                       (total_count + self._transition_alpha * len(self.tagset()))\n",
    "                self._transition_cpds[tag_prev][tag] = prob\n",
    "                \n",
    "        print(\"\\nFinished cpd's\")\n",
    "    \n",
    "    def transition_parameter(self, previous_tag, current_tag):\n",
    "        \"\"\"\n",
    "        This method returns the transition probability for tag given the previous tag.\n",
    "        \n",
    "        Tips: do not forget that we have a smoothed model, thus \n",
    "            - if the either tag was never seen, you should pretend it to be '-UNK-'\n",
    "        \n",
    "        :param previous_tag: the previous tag (str)\n",
    "        :param current_tag: the current tag (str)\n",
    "        :return: transition parameter\n",
    "        \"\"\"\n",
    "        if previous_tag not in self._transition_cpds:\n",
    "            previous_tag = '-UNK-'\n",
    "        if current_tag not in self._transition_cpds[previous_tag]:\n",
    "            current_tag = '-UNK-'\n",
    "        return self._transition_cpds[previous_tag][current_tag]        \n",
    "    \n",
    "    def emission_parameter(self, tag, word):\n",
    "        \"\"\"\n",
    "        This method returns the emission probability for a word given a tag.\n",
    "        Tips: do not forget that we have a smoothed model, thus \n",
    "            - if the tag was never seen, you should pretend it to be '-UNK-'\n",
    "            - similarly, if the word was never seen, you shoud pretend it to be '<unk>'\n",
    "        \n",
    "        :param tag: the current tag (str)\n",
    "        :param word: the current word (str)\n",
    "        :return: the emission probability\n",
    "        \"\"\"\n",
    "        if tag not in self._emission_cpds:\n",
    "            tag = '-UNK-'\n",
    "        if word not in self._emission_cpds[tag]:\n",
    "            word = '<unk>'\n",
    "        return self._emission_cpds[tag][word]\n",
    "        \n",
    "    def joint_parameter(self, previous_tag, current_tag, word):\n",
    "        \"\"\"\n",
    "        This method returns the joint probability of (current tag, word) given the previous tag\n",
    "            according to Equation (3)\n",
    "            \n",
    "        :param previous_tag: the previous tag (str)\n",
    "        :param current_tag: the current tag (str)\n",
    "        :param word: the current word (str)\n",
    "        :returns: P(word, current_tag|previous_tag)\n",
    "        \"\"\"\n",
    "        pcp = self.transition_parameter(previous_tag, current_tag)\n",
    "        pxc = self.emission_parameter(current_tag, word)\n",
    "        return pcp * pxc\n",
    "    \n",
    "    def marginal_x_given_cprev(self, previous_tag, word):\n",
    "        \"\"\"\n",
    "        Return P(x|prev) as defined in Equation (4) by marginalising current tag.\n",
    "        \n",
    "        :param previous_tag: the previous tag (str)\n",
    "        :param word: the current word (str)\n",
    "        \"\"\"\n",
    "        return np.sum([self.joint_parameter(previous_tag, c, word) for c in self._tagset])\n",
    "    \n",
    "    def log_joint(self, sentence, tag_sequence):\n",
    "        \"\"\"\n",
    "        Implement the logarithm of the joint probability over a sentence and tag sequence as in Equation (8)\n",
    "        \n",
    "        :param sentence: a sequence of words (each a string) not yet preprocessed\n",
    "        :param tag_sequence: a sequence of tags (eac a string) not yet preprocessed\n",
    "        :returns: log P(x_1^n, c_1^n|n) as defined in Equation (8)\n",
    "        \"\"\" \n",
    "        sentence = self.preprocess_sentence(sentence)\n",
    "        tag_sequence = self.preprocess_tag_sequence(tag_sequence)\n",
    "        \n",
    "        joint_prob = 0\n",
    "        for i, word in enumerate(sentence[1:], 1):\n",
    "            tag = tag_sequence[i]\n",
    "            prev_tag = tag_sequence[i - 1]\n",
    "            joint_prob += np.log(self.joint_parameter(prev_tag, tag, word))\n",
    "        return joint_prob\n",
    "    \n",
    "    def log_marginal(self, sentence):\n",
    "        \"\"\"\n",
    "        Implement the logarithm of the marginal probability of a sentence as in Equation (9)\n",
    "            by marginalisation of all possible tag sequences. \n",
    "            \n",
    "        :param sentence: a sequence of words (each a string) not yet preprocessed\n",
    "        :returns: log P(x_1^m|n) as defined in Equation (9)\n",
    "        \"\"\"\n",
    "        sentence = self.preprocess_sentence(sentence)\n",
    "        \n",
    "        return sum([np.log(sum([self.marginal_x_given_cprev(p,w) for p in self.tagset()])) for w in sentence])"
   ]
  },
  {
   "cell_type": "code",
   "execution_count": 66,
   "metadata": {},
   "outputs": [
    {
     "name": "stdout",
     "output_type": "stream",
     "text": [
      "Start counting\n",
      "Start calculating cpd's\n",
      "..............\n",
      "Finished emission cpd's\n",
      "..............\n",
      "Finished transition cpd's\n",
      "9.959527643028553e-05\n",
      "At Tokyo , the Nikkei index of 225 selected issues , which *T*-1 gained 132 points Tuesday , added 14.99 points to 35564.43 .\n",
      "ADP NOUN . DET NOUN NOUN ADP NUM VERB NOUN . DET X VERB NUM NOUN NOUN . VERB NUM NOUN PRT NUM .\n",
      "-193.71018536983053\n",
      "-123.19211447683843\n"
     ]
    }
   ],
   "source": [
    "treebank_hmm = HMMLM()\n",
    "treebank_hmm.estimate_model(treebank_training)\n",
    "\n",
    "print(treebank_hmm.joint_parameter('DET', 'NOUN', 'book'))\n",
    "sentence, tag_sequence = map(list, zip(*treebank_dev[0]))\n",
    "print(' '.join(sentence))\n",
    "print(' '.join(tag_sequence))\n",
    "print(treebank_hmm.log_joint(sentence, tag_sequence))\n",
    "print(treebank_hmm.log_marginal(sentence))\n"
   ]
  },
  {
   "cell_type": "code",
   "execution_count": 159,
   "metadata": {},
   "outputs": [
    {
     "name": "stdout",
     "output_type": "stream",
     "text": [
      "7.062115274614483e-06\n"
     ]
    }
   ],
   "source": [
    "print(treebank_hmm.joint_parameter('DET', 'VERB', 'cat'))\n"
   ]
  },
  {
   "cell_type": "markdown",
   "metadata": {},
   "source": [
    "# <a name=\"eval\"> Evaluation\n",
    "    \n",
    "We can evaluate our models by the computing the log-perplexity, like with the LM or by comparing the predictions of the trained model with an annotated test set.\n",
    "\n",
    "\n",
    "## <a name=\"ppl\"> Perplexity\n",
    "\n",
    "Perplexity of a model on a test set is the inverse probability of the test set, normalized\n",
    "by the number of words. Perplexity is a notion of average branching factor, thus a model with low perplexity can be thought of as a *less confused*. That is, each time it introduces a word given some history it picks from a reduced subset of the entire vocabulary (in other words, it is more certain of how to continue). \n",
    "\n",
    "If a dataset contains $t$ tokens where $t = \\sum_{k=1}^m n_k$, then the perplexity of the dataset is\n",
    "\n",
    "\\begin{equation}\n",
    "(11) \\qquad \\text{PP}(\\mathcal T) = \\left( \\prod_{k=1}^m P_{S|N}(\\langle x_1^{(k)}, \\ldots, x_{n_k}^{(k)} \\rangle|n_k; \\boldsymbol \\theta) \\right)^{-1/t}\n",
    "\\end{equation}\n",
    "\n",
    "where we have already discarded the length distribution (since it's held constant across models). And the probability of the sentence requires marginalising tag sequences, as shown in Equation (9).\n",
    "\n",
    "It's again convenient to use log and define log-perplexity\n",
    "\n",
    "\\begin{equation}\n",
    "(12) \\qquad \\log \\text{PP}(\\mathcal T) = - \\frac{1}{t} \\sum_{k=1}^m \\log P_{S|N}(\\langle x_1^{(k)}, \\ldots, x_{n_k}^{(k)} \\rangle|n_k; \\boldsymbol \\theta) \n",
    "\\end{equation}\n",
    "\n",
    "You can compare models in terms of the log-perplexity they assign to the same test data. The lower the perplexity, the better the model is."
   ]
  },
  {
   "cell_type": "markdown",
   "metadata": {},
   "source": [
    "<a name=\"ex4-11\" style=\"color:red\">**Exercise 4-11**</a> **[4 points]** Implement `log_perplexity` below. Train models of PTB and Brown and test both of them on their respective test sets as well as on each other's test set. Report all results.\n",
    "\n",
    "To help you have an idea whether you implemented it right, this is an excerpt of what we got with our implementation\n",
    "\n",
    "```python\n",
    "dev_sentences = extract_sentences(treebank_dev)\n",
    "log_perplexity(dev_sentences, treebank_hmm)\n",
    "```\n",
    "\n",
    "```\n",
    "101.80708039918399\n",
    "```"
   ]
  },
  {
   "cell_type": "markdown",
   "metadata": {},
   "source": [
    "By the way, this is how you load the Brown corpus. Let's use the last 1000 sentences for test. You can reduce the size of the training set if your computer cannot handle what we suggest below."
   ]
  },
  {
   "cell_type": "code",
   "execution_count": 22,
   "metadata": {},
   "outputs": [
    {
     "name": "stdout",
     "output_type": "stream",
     "text": [
      "57340 56000 340 1000\n"
     ]
    }
   ],
   "source": [
    "# load the Brown corpus wiht the universal tag set\n",
    "brown_sentences = nltk.corpus.brown.tagged_sents(tagset='universal')\n",
    "\n",
    "# we split our corpus on training, dev and test\n",
    "brown_training = list(brown_sentences[:56000]) \n",
    "brown_dev = list(brown_sentences[56000:56340])\n",
    "brown_test = list(brown_sentences[56340:])\n",
    "print(len(brown_sentences), len(brown_training), len(brown_dev), len(brown_test))"
   ]
  },
  {
   "cell_type": "code",
   "execution_count": 49,
   "metadata": {},
   "outputs": [],
   "source": [
    "def log_perplexity(sentences, hmm):\n",
    "    \"\"\"\n",
    "    For a dataset of sentences (each sentence is a list of words)\n",
    "        and an instance of the HMMLM class\n",
    "        return the log perplexity as defined in Equation (12)\n",
    "    \"\"\"\n",
    "    \n",
    "    t = sum([len(s) + 2 for s in sentences])\n",
    "    return -1.0 / t * sum([hmm.log_marginal(s) for s in sentences])"
   ]
  },
  {
   "cell_type": "code",
   "execution_count": 51,
   "metadata": {},
   "outputs": [
    {
     "name": "stdout",
     "output_type": "stream",
     "text": [
      "4.689496628253122\n",
      "Start counting\n",
      "Start calculating cpd's\n",
      "..............\n",
      "Finished emission cpd's\n",
      "..............\n",
      "Finished transition cpd's\n",
      "4.668776756438641\n"
     ]
    }
   ],
   "source": [
    "dev_sentences = extract_sentences(treebank_dev)\n",
    "print(log_perplexity(dev_sentences, treebank_hmm))\n",
    "\n",
    "brown_hmm = HMMLM()\n",
    "brown_hmm.estimate_model(brown_training)\n",
    "\n",
    "brown_dev_sentences = extract_sentences(brown_dev)\n",
    "print(log_perplexity(brown_dev_sentences, brown_hmm))"
   ]
  },
  {
   "cell_type": "markdown",
   "metadata": {},
   "source": [
    "## <a name=\"viterbi\"> Viterbi\n",
    "\n",
    "\n",
    "The Viterbi algorithm is used to search through the space of possible tag sequences and find the one that score highest.\n",
    "\n",
    "The space of tag sequences is very large, consider that we can select any of $t$ tags for each position, thus by simple counting, we are left with $t^n$ possible sequences. Searching through an exponential space is intractable in general. \n",
    "\n",
    "Not by chance we designed the HMM with certain conditional independence assumptions. In fact, in our HMM model the probability of each word observation really only depends on two decisions, namely, its tag and its preceding tag. We can use that to derive a *tractable* dynamic program. \n",
    "\n",
    "[Dynamic programming](https://en.wikipedia.org/wiki/Dynamic_programming) is a kind of *divide and conquer* strategy. We have to identify sub-problems that we can solve efficiently and maintain a memory of partial solutions that we use to build the final one.\n",
    "\n",
    "For the Viterbi algorithm we need to solve the problem \"what is the best probability so far\". We will approach this problem with a recursion that computes the probability of the best path of a certain length.\n",
    "We will use the recursive function $\\alpha(i, j)$ which returns the best probability for a path of length $i$ assuming that its last tag is $C_i=j$. For efficiency in our implementation we will map tags to integers.\n",
    "\n",
    "The Viterbi recursion is pretty simple, if a path has length $0$ we will assume it has probability $1$. If a path has length $i$ (more than $0$), we reckon that its maximum probability is based on the maximum probability assigned to paths of size $i-1$, where we extend those paths with one steps and check which step yields the best probability.\n",
    "\n",
    "The Viterbi recursion is formalised below:\n",
    "\n",
    "\\begin{align}\n",
    "(13)\\qquad \\alpha(i, j) &= \n",
    "\\begin{cases}\n",
    "1 & \\text{if }i = 0 \\\\\n",
    "\\max_{p \\in \\{1, \\ldots, t\\}} \\alpha(i-1, p) \\times \\lambda_{j}^{p} \\times \\theta_{x_i}^{j} & \\text{otherwise}\n",
    "\\end{cases}\n",
    "\\end{align}\n",
    "\n",
    "Note that in the second line, we look for paths of size $i-1$ (which my have ended in one of $t$ possible previous tags) and we try to extend them with tag $j$. The probability of each hypothetical extension is the probability of the path we mean to extend $\\alpha(i-1, p)$ times the joint parameters associated with the extension. That is, continuing from previous class $C_{i-1}=p$ with current class $C_i=j$ (that is a transition parameter), and generating the current word $X_i=x_i$ from the current class $C_i=j$ ( that is an emission parameter).\n",
    "\n",
    "Note that the recursive function takes 2 inputs, $i$ which ranges from 1 to $n$, and $j$ which ranges from 1 to $t$. Thus we need to make at most $nt$ calls to this function. But also note that each time we call it, we have to solve (in the second line) a maximisation over $t$ possible assignments of the previous tag. Therefore the overall complexity of the algorithm is $O(nt^2)$. That's quite an improvement from $O(t^n)$, isn't it?\n",
    "\n",
    "Of course, crucial to the success of the algorithm is that we use [memoization](https://en.wikipedia.org/wiki/Memoization), a technique by which we store partial solutions and never recompute things.\n",
    "\n",
    "We provide you with a **recursive** implementation of the Viterbi algorithm which uses the interface of the HMMLM class that you designed above. You can use this implementation if you want to experiment with PTB and Brown corpus in the exercises below. Read the implementation carefully to learn from it. We have provided extensive documentation.\n",
    "One important note is that we compute everything in log space, that's to rely on better numerical properties of log probabilities.\n",
    "\n",
    "The Viterbi recursion gives us a way to compute the *probability* of the best path. To find the actual best path we just need to traverse the table of $\\alpha(i, j)$ values looking for the decision (tag) that is best at each point.\n"
   ]
  },
  {
   "cell_type": "code",
   "execution_count": 34,
   "metadata": {},
   "outputs": [],
   "source": [
    "def viterbi_recursion(sentence, hmm):\n",
    "    \"\"\"\n",
    "    Computes the best possible tag sequence for a given input\n",
    "    and also returns it log probability.\n",
    "    \n",
    "    This implementation uses recursion.\n",
    "    \n",
    "    :returns: tag sequence, log probability\n",
    "    \"\"\"\n",
    "    # here we pad the sentence with </s> only\n",
    "    sentence = hmm.preprocess_sentence(sentence, bos=False, eos=True)\n",
    "    # this is the length (but recall that padding added 1 token) \n",
    "    n = len(sentence)\n",
    "    # this is the complete tagset, which for convenience we will turn into a list\n",
    "    tagset = list(hmm.tagset())\n",
    "    t = len(tagset)\n",
    "    # We need a table to store log alpha(i, j) values\n",
    "    # - where i is an integer from 0 to n-1 which refers to a position in the list `sentence`\n",
    "    #   i.e. sentence[i]\n",
    "    # - and j is an integer from 0 to t-1 that refers to a tag in the list `tagset` \n",
    "    #   i.e. tagset[j] \n",
    "    # - together (i, j) means that we are setting `C_i = tagset[j]`    \n",
    "    # - we will be exploring the space of possible tags per position\n",
    "    #   thus our table has as many as n * t cells\n",
    "    # - Recall that the value \\log \\alpha(i, j)\n",
    "    #   corresponds to the log probability value of the best\n",
    "    #   path (C_1, ..., C_i) such that C_i = j\n",
    "    #   in other words the log probability of the best sequence up to the ith token where C_i = j\n",
    "    # At the beginning path probabilities have not been computed, we use a probability of 0 to indicate that\n",
    "    #  as we will be computing log probabilities, we use -inf instead\n",
    "    #  numpy arrays are very handy and we can actually use the quantity -inf\n",
    "    log_alpha_table = np.full([n, t], -float('inf'))\n",
    "    # In a best path algorithm we are interested in two things\n",
    "    #  the best score (or best log probability)\n",
    "    #  as well as the path that corresponds to the best score\n",
    "    # We compute the best score by moving i forward from 0 to n-1 computing the maximum value \n",
    "    #  and we traverse the table backwards following the path that led to the maximum\n",
    "    #  thus we create a table of \"back pointers\"\n",
    "    #  this is an integer for each cell (i, j) that tells us which tag `p` for position `i - 1`\n",
    "    #   leads to the score stored in `log_alpha_table[i, j]`\n",
    "    back_pointer_table = np.full([n, t], -1, dtype=int)\n",
    "\n",
    "    # Here we define the log alpha recursion\n",
    "    def log_alpha(i, j):\n",
    "        \"\"\"\n",
    "        This function returns\n",
    "                max_{c_1, ..., c_i=j} log P(c_1, ..., c_i=j) \n",
    "            where i is a (0-based) position in `sentence`\n",
    "            and j is a (0-based) position in `tagset`\n",
    "        \"\"\"\n",
    "        if i == 0:  # we do not need to tag the 0th position and it should not affect the probability\n",
    "            return 0.  # np.log(1)\n",
    "        # When we implement dynamic programs, we like to re-use computations already made\n",
    "        # thus first of all we test if we have already computed a value for this cell\n",
    "        # if so, it will not have a zero probability (-inf in log space)\n",
    "        if log_alpha_table[i, j] != -float('inf'):  \n",
    "            # then we can simply return it\n",
    "            return log_alpha_table[i, j]\n",
    "        # At this point we know we have not yet computed a score for this path\n",
    "        #  thus we proceed to compute it\n",
    "        # We will have to figure out the log prob of the best prefix\n",
    "        #  and which tag best continues from it\n",
    "        # There are exactly t classes that may tag this position\n",
    "        #  thus we just go over the tagset trying one at a time\n",
    "        #  and memorise the score we would have if we would select them\n",
    "        path_max_log_prob = np.full(t, -float('inf'))\n",
    "        for p in range(t):\n",
    "            # this is the essential part of the recursion\n",
    "            # we ask for the best score associated with the previous position \n",
    "            #  had it been tagged with p\n",
    "            #  and we incorporate the probability of C_i = tagset[j] given that C_{i-1} = tagset[p]\n",
    "            #   as well as the probability of X_i = sentence[i] given that C_i = tagset[j]\n",
    "            path_max_log_prob[p] = log_alpha(i - 1, p) + np.log(hmm.joint_parameter(tagset[p], tagset[j], sentence[i]))\n",
    "        # From all possibilities, we are only interested in the best\n",
    "        log_alpha_table[i, j] = np.max(path_max_log_prob)\n",
    "        # and we also want to store a pointer to the best\n",
    "        back_pointer_table[i, j] = np.argmax(path_max_log_prob)\n",
    "        return log_alpha_table[i, j]\n",
    "    \n",
    "    # Let's get the index associated with -EOS-\n",
    "    #  which is the tag for the </s> symbol in sentence[-1]\n",
    "    eos_index = tagset.index('-EOS-')\n",
    "    # We want the last word in the sentence (</s>) to have the tag -EOS-\n",
    "    #  thus we ask \"what's the probability of the best path that ends in -EOS-?\"\n",
    "    max_log_prob = log_alpha(n - 1, eos_index)\n",
    "    \n",
    "    # Here we retrieve the backpointers for the best analysis\n",
    "    #  the best analisys has n tags\n",
    "    bwd_argmax = [None] * n\n",
    "    #  the last tag is the -EOS- symbol\n",
    "    bwd_argmax[-1] = eos_index\n",
    "    # Here we maintain the \"current tag\" c_i\n",
    "    c_i = eos_index\n",
    "    for i in range(n - 1, 0, -1):  # we go backwards from c_{n-1} to c_1\n",
    "        # and set the value of c_{i-1} for the current c_i\n",
    "        bwd_argmax[i - 1] = back_pointer_table[i, c_i]\n",
    "        # we need, of course, to update c_i\n",
    "        c_i = bwd_argmax[i - 1]\n",
    "    \n",
    "    # Here we translate from ids back to actual tags (strings)\n",
    "    #  we leave the -EOS- symbol out, since it was just a convenience \n",
    "    #  and return both the tag sequence and the total log probability\n",
    "    return [tagset[c] for c in bwd_argmax[:-1]], max_log_prob"
   ]
  },
  {
   "cell_type": "code",
   "execution_count": 35,
   "metadata": {},
   "outputs": [
    {
     "name": "stdout",
     "output_type": "stream",
     "text": [
      "['PRON', 'VERB', 'PRON', 'VERB', 'DET', 'NOUN', '.'] -42.817371568242855\n"
     ]
    }
   ],
   "source": [
    "# let's tag a sentence\n",
    "viterbi_path, viterbi_log_prob = viterbi_recursion(['i', 'wish', 'i', 'had', 'a', 'book', '.'], treebank_hmm)\n",
    "print(viterbi_path, viterbi_log_prob)"
   ]
  },
  {
   "cell_type": "markdown",
   "metadata": {
    "collapsed": true
   },
   "source": [
    "##  <a name=\"acc\"> Accuracy\n",
    "\n",
    "We can evaluate the performance of our tagger by comparing its Viterbi predictions to human annotation. \n",
    "\n",
    "For this, we will use the gold standard test data (e.g. treebank_test). Evaluation metrics compute a score for a given model (e.g. our HMM tagger) by comparing the predicted labels that the model generated with the test data againts the gold standard annotation.\n",
    "\n",
    "The **Accuracy** metric computes the percentage of instances in the test data that our tagger labeled correctly.\n",
    "If we have a dataset of $m$ labelled sequences\n",
    "\\begin{equation}\n",
    "\\left( \\langle x_1^{(k)}, \\ldots, x_{n_k}^{(k)}\\rangle, \\langle \\star_1^{(k)}, \\ldots, \\star_{n_k}^{(k)}\\rangle \\right)_{k=1}^m\n",
    "\\end{equation}\n",
    "we can produce all Viterbi predictions\n",
    "\\begin{equation}\n",
    "\\left( \\langle x_1^{(k)}, \\ldots, x_{n_k}^{(k)}\\rangle, \\langle c_1^{(k)}, \\ldots, c_{n_k}^{(k)}\\rangle \\right)_{k=1}^m\n",
    "\\end{equation}\n",
    "\n",
    "and compute\n",
    "\n",
    "\\begin{align}\n",
    "(14)\\qquad \\text{accuracy} &= \\frac{\\sum_{k=1}^m \\sum_{i=1}^{n_k} [c_i^{(k)} = \\star_i^{(k)}]}{\\sum_{k=1}^m n_k}\\\\\n",
    "&= \\frac{\\text{number of correct predictions}}{\\text{total tokens}} \n",
    "\\end{align}\n",
    "\n"
   ]
  },
  {
   "cell_type": "markdown",
   "metadata": {},
   "source": [
    "<a name=\"ex4-12\" style=\"color:red\">**Exercise 4-12**</a> **[5 points]** \n",
    "\n",
    "* **[1 point]** Implement the accuracy function.\n",
    "* **[1 point]** Compute accuracy on PTB's test set using a PTB-trained model\n",
    "* **[1 point]** Compute accuracy on PTB's test set using a Brown-trained model\n",
    "* **[1 point]** Compute accuracy on Brown's test set using a PTB-trained model\n",
    "* **[1 point]** Compute accuracy on Brown's test set using a Brown-trained model\n",
    "\n",
    "For this exercise you can use the Viterbi implementation we provided (or your own -- its up to you). With our own implementation we got $0.8446$ accuracy for PTB-training and PTB-test, and $0.8960$ for Brown-training and Brown-test."
   ]
  },
  {
   "cell_type": "code",
   "execution_count": null,
   "metadata": {},
   "outputs": [],
   "source": [
    "def accuracy(gold_sequences, pred_sequences):\n",
    "    \"\"\"\n",
    "    Return percentage of instances in the test data that our tagger labeled correctly.\n",
    "    \n",
    "    :param gold_sequences: a list of tag sequences that can be assumed to be correct\n",
    "    :param pred_sequences: a list of tag sequences predicted by Viterbi    \n",
    "    \"\"\"\n",
    "    count_correct, count_total = 0, 0\n",
    "    for i, combined in enumerate(zip(pred_sequences, gold_sequences)):\n",
    "        for p, g in list(zip(*combined)):\n",
    "            if p == g:\n",
    "                count_correct += 1\n",
    "            count_total += 1\n",
    "    if count_total:\n",
    "        return count_correct / count_total\n",
    "    return None\n",
    "\n",
    "def predict_corpus(test_set, hmm):\n",
    "    \"\"\"\n",
    "    Returns viterbi predictions for all sentences in a given corpus\n",
    "    \n",
    "    :param test_set: A corpus of tagged sentences\n",
    "    :param hmm     : A language model\n",
    "    \"\"\"\n",
    "    gold_sequences, pred_sequences = list(), list()\n",
    "    print('Making predictions', end='')\n",
    "    for i, sequence in enumerate(test_set):\n",
    "        if i % round(len(test_set) / 10) == 0:\n",
    "            print('.', end='')\n",
    "        sentence , tags = map(list, zip(*sequence))\n",
    "        viterbi_tags, _ = viterbi_recursion(sentence, hmm)\n",
    "        gold_sequences.append(tags)\n",
    "        pred_sequences.append(viterbi_tags)\n",
    "    return gold_sequences, pred_sequences\n",
    "    \n",
    "\n",
    "print(\"PTB -> PTB accuracy: \",round(accuracy(*predict_corpus(treebank_test, treebank_hmm)),4))\n",
    "print(\"PTB -> Brown accuracy: \",round(accuracy(*predict_corpus(treebank_test, brown_hmm)),4))\n",
    "print(\"Brown -> PTB accuracy: \",round(accuracy(*predict_corpus(brown_test, treebank_hmm)),4))\n",
    "print(\"Brown -> Brown accuracy: \",round(accuracy(*predict_corpus(brown_test, brown_hmm)),4))\n",
    "    \n"
   ]
  }
 ],
 "metadata": {
  "kernelspec": {
   "display_name": "Python 3",
   "language": "python",
   "name": "python3"
  },
  "language_info": {
   "codemirror_mode": {
    "name": "ipython",
    "version": 3
   },
   "file_extension": ".py",
   "mimetype": "text/x-python",
   "name": "python",
   "nbconvert_exporter": "python",
   "pygments_lexer": "ipython3",
   "version": "3.5.2"
  }
 },
 "nbformat": 4,
 "nbformat_minor": 2
}
